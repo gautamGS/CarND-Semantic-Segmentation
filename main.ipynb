{
 "cells": [
  {
   "cell_type": "code",
   "execution_count": 1,
   "metadata": {},
   "outputs": [],
   "source": [
    "import os.path\n",
    "import tensorflow as tf\n",
    "import helper\n",
    "import warnings\n",
    "from distutils.version import LooseVersion\n",
    "import project_tests as tests\n"
   ]
  },
  {
   "cell_type": "code",
   "execution_count": 2,
   "metadata": {},
   "outputs": [
    {
     "name": "stdout",
     "output_type": "stream",
     "text": [
      "TensorFlow Version: 1.2.1\n"
     ]
    },
    {
     "name": "stderr",
     "output_type": "stream",
     "text": [
      "C:\\Users\\gautam_sareen\\AppData\\Local\\Continuum\\Miniconda3\\envs\\carnd-term1\\lib\\site-packages\\ipykernel\\__main__.py:7: UserWarning: No GPU found. Please use a GPU to train your neural network.\n"
     ]
    }
   ],
   "source": [
    "# Check TensorFlow Version\n",
    "assert LooseVersion(tf.__version__) >= LooseVersion('1.0'), 'Please use TensorFlow version 1.0 or newer.  You are using {}'.format(tf.__version__)\n",
    "print('TensorFlow Version: {}'.format(tf.__version__))\n",
    "\n",
    "# Check for a GPU\n",
    "if not tf.test.gpu_device_name():\n",
    "    warnings.warn('No GPU found. Please use a GPU to train your neural network.')\n",
    "else:\n",
    "    print('Default GPU Device: {}'.format(tf.test.gpu_device_name()))\n",
    "\n",
    "\n"
   ]
  },
  {
   "cell_type": "code",
   "execution_count": 3,
   "metadata": {},
   "outputs": [
    {
     "name": "stdout",
     "output_type": "stream",
     "text": [
      "Tests Passed\n"
     ]
    }
   ],
   "source": [
    "def load_vgg(sess, vgg_path):\n",
    "    \"\"\"\n",
    "    Load Pretrained VGG Model into TensorFlow.\n",
    "    :param sess: TensorFlow Session\n",
    "    :param vgg_path: Path to vgg folder, containing \"variables/\" and \"saved_model.pb\"\n",
    "    :return: Tuple of Tensors from VGG model (image_input, keep_prob, layer3_out, layer4_out, layer7_out)\n",
    "    \"\"\"\n",
    "    # TODO: Implement function\n",
    "    #   Use tf.saved_model.loader.load to load the model and weights\n",
    "    vgg_tag = 'vgg16'\n",
    "    vgg_input_tensor_name = 'image_input:0'\n",
    "    vgg_keep_prob_tensor_name = 'keep_prob:0'\n",
    "    vgg_layer3_out_tensor_name = 'layer3_out:0'\n",
    "    vgg_layer4_out_tensor_name = 'layer4_out:0'\n",
    "    vgg_layer7_out_tensor_name = 'layer7_out:0'\n",
    "    \n",
    "    #load model from the path provided\n",
    "    tf.saved_model.loader.load(sess,[vgg_tag],vgg_path)\n",
    "    \n",
    "    #get graph of the loaded model\n",
    "    savedGraph = tf.get_default_graph()\n",
    "    \n",
    "    #get tensors for input , keep_prob ,layre3 output , layer4 output , layer7 output\n",
    "    image_input= savedGraph.get_tensor_by_name(vgg_input_tensor_name)\n",
    "    keep_prob=savedGraph.get_tensor_by_name(vgg_keep_prob_tensor_name)\n",
    "    layer3_out=savedGraph.get_tensor_by_name(vgg_layer3_out_tensor_name)\n",
    "    layer4_out=savedGraph.get_tensor_by_name(vgg_layer4_out_tensor_name)\n",
    "    layer7_out=savedGraph.get_tensor_by_name(vgg_layer7_out_tensor_name)\n",
    "    \n",
    "    return image_input, keep_prob, layer3_out, layer4_out, layer7_out\n",
    "\n",
    "tests.test_load_vgg(load_vgg, tf)\n"
   ]
  },
  {
   "cell_type": "code",
   "execution_count": 4,
   "metadata": {},
   "outputs": [
    {
     "name": "stdout",
     "output_type": "stream",
     "text": [
      "Tests Passed\n"
     ]
    }
   ],
   "source": [
    "def layers(vgg_layer3_out, vgg_layer4_out, vgg_layer7_out, num_classes):\n",
    "    \"\"\"\n",
    "    Create the layers for a fully convolutional network.  Build skip-layers using the vgg layers.\n",
    "    :param vgg_layer3_out: TF Tensor for VGG Layer 3 output\n",
    "    :param vgg_layer4_out: TF Tensor for VGG Layer 4 output\n",
    "    :param vgg_layer7_out: TF Tensor for VGG Layer 7 output\n",
    "    :param num_classes: Number of classes to classify\n",
    "    :return: The Tensor for the last layer of output\n",
    "    \"\"\"\n",
    "    \n",
    "    #To go with transfer learning stop back prorpogation from layer 7\n",
    "    vgg_layer7_out=tf.stop_gradient(vgg_layer7_out)\n",
    "\n",
    "    \n",
    "    #adjust the depth of the layer 7 output to required final classes\n",
    "    conv_1x1_layer7 = tf.layers.conv2d(vgg_layer7_out,num_classes,1,padding='SAME',kernel_regularizer=tf.contrib.layers.l2_regularizer(1e-3),name=\"modified_conv_1x1_layer7\")\n",
    "    \n",
    "    #upsample 2x times to the above layer (from x/32 to x/16)\n",
    "    out_conv_1x1_layer7= tf.layers.conv2d_transpose(conv_1x1_layer7,num_classes,kernel_size=4,strides=(2,2),padding='SAME',kernel_regularizer=tf.contrib.layers.l2_regularizer(1e-3),name=\"modified_out_conv_1x1_layer7\")\n",
    "                                                       \n",
    "    #for transfer learning stop back propogation from layer 4\n",
    "    vgg_layer4_out= tf.stop_gradient(vgg_layer4_out)\n",
    "    \n",
    "    #use skip connection to add layer 4 output with above\n",
    "    #but make sure to have same depth by using a 1x1 conv\n",
    "    \n",
    "    conv_1x1_layer4 = tf.layers.conv2d(vgg_layer4_out,num_classes,1,padding='SAME',kernel_regularizer=tf.contrib.layers.l2_regularizer(1e-3),name=\"modified_conv_1x1_layer4\")\n",
    "    add_lay4_out_conv_1x1_layer7= tf.add(out_conv_1x1_layer7,conv_1x1_layer4,name=\"modified_add_lay4_out_conv_1x1_layer7\")\n",
    "    \n",
    "    #upsample 2x times to the above layer (from x/16 to x/8)\n",
    "    out_add_layer_7_4= tf.layers.conv2d_transpose(add_lay4_out_conv_1x1_layer7,num_classes,kernel_size=4,strides=(2,2),padding='SAME',kernel_regularizer=tf.contrib.layers.l2_regularizer(1e-3),name=\"modified_out_add_layer_7_4\")\n",
    "    \n",
    "    #for transfer learning stop back propogation from layer 4\n",
    "    vgg_layer3_out= tf.stop_gradient(vgg_layer3_out)\n",
    "    \n",
    "    #use skip connection to add layer 3 output with above\n",
    "    #but make sure to have same depth by using a 1x1 conv\n",
    "    conv_1x1_layer3 = tf.layers.conv2d(vgg_layer3_out,num_classes,1,padding='SAME',kernel_regularizer=tf.contrib.layers.l2_regularizer(1e-3),name=\"modified_conv_1x1_layer3\")\n",
    "    add_lay3_out_add_layer_7_4= tf.add(out_add_layer_7_4,conv_1x1_layer3,name=\"modified_add_lay3_out_add_layer_7_4\")\n",
    "    \n",
    "    ##upsample 8x times to the above layer (from x/8 to x) \n",
    "    \n",
    "    lastLayer = tf.layers.conv2d_transpose(add_lay3_out_add_layer_7_4, num_classes,kernel_size=16,strides=(8,8),padding='SAME',kernel_regularizer=tf.contrib.layers.l2_regularizer(1e-3),name=\"modified_lastLayer\")\n",
    "    \n",
    "    \n",
    "    \n",
    "    return lastLayer\n",
    "\n",
    "tests.test_layers(layers)\n",
    "\n",
    "\n"
   ]
  },
  {
   "cell_type": "code",
   "execution_count": 5,
   "metadata": {},
   "outputs": [
    {
     "name": "stdout",
     "output_type": "stream",
     "text": [
      "variable.name Variable:0\n",
      "data added\n",
      "Tests Passed\n"
     ]
    }
   ],
   "source": [
    "def optimize(nn_last_layer, correct_label, learning_rate, num_classes):\n",
    "    \"\"\"\n",
    "    Build the TensorFLow loss and optimizer operations.\n",
    "    :param nn_last_layer: TF Tensor of the last layer in the neural network\n",
    "    :param correct_label: TF Placeholder for the correct label image\n",
    "    :param learning_rate: TF Placeholder for the learning rate\n",
    "    :param num_classes: Number of classes to classify\n",
    "    :return: Tuple of (logits, train_op, cross_entropy_loss)\n",
    "    \"\"\"\n",
    "    # TODO: Implement function\n",
    "    #reshape from 4d to 2d for ease in classification\n",
    "    logits = tf.reshape(nn_last_layer, (-1, num_classes),name=\"modified_logits\")\n",
    "    \n",
    "    cross_entropy = tf.nn.softmax_cross_entropy_with_logits(logits=logits,labels=correct_label)\n",
    "    \n",
    "    cross_entropy_loss = tf.reduce_mean(cross_entropy)\n",
    "\n",
    "    opt = tf.train.AdamOptimizer(learning_rate=learning_rate)\n",
    "                                 \n",
    "    train_variables = []\n",
    "\n",
    "    for variable in tf.trainable_variables():\n",
    "        # make sure you have named your tensors/ops/layers with names\n",
    "        # starting with ‘new_’ or some other prefix that you choose\n",
    "        print(\"variable.name\",variable.name)\n",
    "        if \"modified_\" in variable.name or 'beta' in variable.name:\n",
    "            train_variables.append(variable)\n",
    "    \n",
    "    print (\"data added\")\n",
    "    train_op = opt.minimize(\n",
    "                     cross_entropy_loss, name=\"train_op\"\n",
    "                  )\n",
    "\n",
    "    \n",
    "    return logits, train_op, cross_entropy_loss\n",
    "\n",
    "tests.test_optimize(optimize)\n",
    "\n",
    "\n"
   ]
  },
  {
   "cell_type": "code",
   "execution_count": 16,
   "metadata": {},
   "outputs": [],
   "source": [
    "def train_nn(sess, epochs, batch_size, get_batches_fn, train_op, cross_entropy_loss, input_image,\n",
    "             correct_label, keep_prob, learning_rate):\n",
    "    \"\"\"\n",
    "    Train neural network and print out the loss during training.\n",
    "    :param sess: TF Session\n",
    "    :param epochs: Number of epochs\n",
    "    :param batch_size: Batch size\n",
    "    :param get_batches_fn: Function to get batches of training data.  Call using get_batches_fn(batch_size)\n",
    "    :param train_op: TF Operation to train the neural network\n",
    "    :param cross_entropy_loss: TF Tensor for the amount of loss\n",
    "    :param input_image: TF Placeholder for input images\n",
    "    :param correct_label: TF Placeholder for label images\n",
    "    :param keep_prob: TF Placeholder for dropout keep probability\n",
    "    :param learning_rate: TF Placeholder for learning rate\n",
    "    \"\"\"\n",
    "    # TODO: Implement function\n",
    "    #sess.run(tf.global_variables_initializer())\n",
    "    \n",
    "    my_variable_initializers = [\n",
    "        var.initializer for var in tf.global_variables() if 'modified_' in var.name or  \n",
    "               'beta' in var.name  ]\n",
    "   \n",
    "    sess.run(my_variable_initializers)\n",
    "\n",
    "    \n",
    "    for epoch in range(epochs):\n",
    "        for X_batch , y_batch in get_batches_fn(batch_size):\n",
    "\n",
    "            loss, _ = sess.run([cross_entropy_loss, train_op], feed_dict={\n",
    "                input_image: X_batch,\n",
    "                correct_label: y_batch,\n",
    "                keep_prob: keep_prob, # can be between 0 and 1 during training\n",
    "                learning_rate: learning_rate\n",
    "            })\n",
    "        \n",
    "            print (\"EPOCH : \" ,epoch, \" Loss : \" ,loss ) \n",
    "\n",
    " \n",
    "        \n",
    "\n",
    "tests.test_train_nn(train_nn)\n"
   ]
  },
  {
   "cell_type": "code",
   "execution_count": 19,
   "metadata": {},
   "outputs": [],
   "source": [
    "def run():\n",
    "    num_classes = 2\n",
    "    image_shape = (160, 576)\n",
    "    data_dir = './data'\n",
    "    runs_dir = './runs'\n",
    "    tests.test_for_kitti_dataset(data_dir)\n",
    "    epochs = 3\n",
    "    batch_size=3\n",
    "\n",
    "    print(\"checking for model\")\n",
    "    # Download pretrained vgg model\n",
    "    helper.maybe_download_pretrained_vgg(data_dir)\n",
    "    print(\"model check completed\")\n",
    "    # OPTIONAL: Train and Inference on the cityscapes dataset instead of the Kitti dataset.\n",
    "    # You'll need a GPU with at least 10 teraFLOPS to train on.\n",
    "    #  https://www.cityscapes-dataset.com/\n",
    "\n",
    "    with tf.Session() as sess:\n",
    "        # Path to vgg model\n",
    "        vgg_path = os.path.join(data_dir, 'vgg')\n",
    "        # Create function to get batches\n",
    "        get_batches_fn = helper.gen_batch_function(os.path.join(data_dir, 'data_road/training'), image_shape)\n",
    "\n",
    "        # OPTIONAL: Augment Images for better results\n",
    "        #  https://datascience.stackexchange.com/questions/5224/how-to-prepare-augment-images-for-neural-network\n",
    "\n",
    "        # TODO: Build NN using load_vgg, layers, and optimize function\n",
    "        correct_label = tf.placeholder(tf.int32, [None, None, None, num_classes], name='modified_correct_label')\n",
    "        learning_rate = tf.placeholder(tf.float32, name='modified_learning_rate')\n",
    "        \n",
    "        input_layer, keep_prob, layer3, layer4, layer7 = load_vgg(sess, vgg_path)\n",
    "        \n",
    "        lastlayerReturned = layers(layer3, layer4, layer7, num_classes)\n",
    "        logits, train_op, cross_entropy_loss= optimize(lastlayerReturned, correct_label, learning_rate, num_classes)\n",
    "       \n",
    "        # TODO: Train NN using the train_nn function\n",
    "        train_nn(sess, epochs, batch_size, get_batches_fn, train_op, cross_entropy_loss, input_layer,\n",
    "             correct_label, keep_prob, learning_rate)    \n",
    "        \n",
    "        # TODO: Save inference data using helper.save_inference_samples\n",
    "        #  helper.save_inference_samples(runs_dir, data_dir, sess, image_shape, logits, keep_prob, input_image)\n",
    "\n",
    "        # OPTIONAL: Apply the trained model to a video\n"
   ]
  },
  {
   "cell_type": "code",
   "execution_count": null,
   "metadata": {},
   "outputs": [],
   "source": [
    "if __name__ == '__main__':\n",
    "    run()"
   ]
  },
  {
   "cell_type": "code",
   "execution_count": null,
   "metadata": {},
   "outputs": [],
   "source": []
  }
 ],
 "metadata": {
  "kernelspec": {
   "display_name": "Python [conda env:carnd-term1]",
   "language": "python",
   "name": "conda-env-carnd-term1-py"
  },
  "language_info": {
   "codemirror_mode": {
    "name": "ipython",
    "version": 3
   },
   "file_extension": ".py",
   "mimetype": "text/x-python",
   "name": "python",
   "nbconvert_exporter": "python",
   "pygments_lexer": "ipython3",
   "version": "3.5.2"
  },
  "widgets": {
   "state": {},
   "version": "1.1.2"
  }
 },
 "nbformat": 4,
 "nbformat_minor": 2
}
